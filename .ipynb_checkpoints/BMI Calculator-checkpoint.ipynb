{
 "cells": [
  {
   "cell_type": "markdown",
   "id": "3598c956",
   "metadata": {},
   "source": [
    "    #BMI Calculator"
   ]
  },
  {
   "cell_type": "code",
   "execution_count": 1,
   "id": "ee398edf",
   "metadata": {},
   "outputs": [
    {
     "name": "stdout",
     "output_type": "stream",
     "text": [
      "What is your name:Cyrus\n",
      "Hello Cyrus, Welcome to our BMI calculation system\n"
     ]
    }
   ],
   "source": [
    "name = input(\"What is your name:\")\n",
    "print(f\"Hello {name}, Welcome to our BMI calculation system\")"
   ]
  },
  {
   "cell_type": "code",
   "execution_count": 2,
   "id": "acc92d0a",
   "metadata": {},
   "outputs": [
    {
     "name": "stdout",
     "output_type": "stream",
     "text": [
      "provide us with the information below: \n",
      "Enter tyour weight: kgs88\n",
      "Enter your height: metres180\n",
      "==========BMI Results==========\n",
      "Your BMI is:0.0\n",
      "Underweight\n"
     ]
    }
   ],
   "source": [
    "print(\"provide us with the information below: \")\n",
    "weight = float(input(\"Enter tyour weight: kgs\"))\n",
    "height = float(input(\"Enter your height: metres\"))\n",
    "\n",
    "BMI= round(weight/(height * height),2)\n",
    "\n",
    "print(\"==========BMI Results==========\")\n",
    "print(f\"Your BMI is:{BMI}\")\n",
    "\n",
    "if BMI > 25:\n",
    "    print(\"overweight\")\n",
    "elif BMI < 18:\n",
    "    print(\"Underweight\")\n",
    "else:\n",
    "    print(\"Normal\")\n"
   ]
  },
  {
   "cell_type": "code",
   "execution_count": null,
   "id": "da19cae2",
   "metadata": {},
   "outputs": [],
   "source": []
  }
 ],
 "metadata": {
  "kernelspec": {
   "display_name": "Python 3 (ipykernel)",
   "language": "python",
   "name": "python3"
  },
  "language_info": {
   "codemirror_mode": {
    "name": "ipython",
    "version": 3
   },
   "file_extension": ".py",
   "mimetype": "text/x-python",
   "name": "python",
   "nbconvert_exporter": "python",
   "pygments_lexer": "ipython3",
   "version": "3.11.7"
  }
 },
 "nbformat": 4,
 "nbformat_minor": 5
}
